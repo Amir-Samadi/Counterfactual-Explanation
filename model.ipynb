{
 "cells": [
  {
   "cell_type": "markdown",
   "id": "c5c5d9f8",
   "metadata": {},
   "source": [
    "# conterfactual expalantion for DRL baced-on policy distillation"
   ]
  },
  {
   "cell_type": "markdown",
   "id": "3b341d51",
   "metadata": {},
   "source": [
    "### import packages"
   ]
  },
  {
   "cell_type": "code",
   "execution_count": 1,
   "id": "29d1862d",
   "metadata": {},
   "outputs": [
    {
     "name": "stdout",
     "output_type": "stream",
     "text": [
      "device:  cuda\n"
     ]
    }
   ],
   "source": [
    "import gym\n",
    "from stable_baselines3 import DQN\n",
    "from stable_baselines3.common.vec_env import VecVideoRecorder, DummyVecEnv\n",
    "from stable_baselines3 import DQN\n",
    "from stable_baselines3.common.vec_env import VecVideoRecorder, DummyVecEnv\n",
    "from policy_distillation import main as policy_distillation \n",
    "import random\n",
    "from tkinter import Y\n",
    "import numpy as np\n",
    "import torch\n",
    "import torch.nn as nn\n",
    "import gym\n",
    "import numpy as np\n",
    "from IPython.display import clear_output\n",
    "import matplotlib.pyplot as plt\n",
    "# import matplotlib \n",
    "# matplotlib.use(\"Qt5Agg\")\n",
    "# from matplotlib import pyplot as plt\n",
    "import gym\n",
    "import highway_env\n",
    "from matplotlib import pyplot as plt\n",
    "\n",
    "from scipy.signal import convolve, gaussian\n",
    "from copy import deepcopy\n",
    "import os\n",
    "import io\n",
    "import base64\n",
    "import time\n",
    "import glob\n",
    "from IPython.display import HTML\n",
    "import local_lib as myLib\n",
    "\n",
    "import warnings\n",
    "warnings.simplefilter(action='ignore', category=FutureWarning)\n",
    "from stable_baselines3 import SAC,A2C,DDPG, DQN\n",
    "\n",
    "from itertools import count\n",
    "from time import time, strftime, localtime\n",
    "import gym\n",
    "import scipy.optimize\n",
    "from tensorboardX import SummaryWriter\n",
    "from core.models import *\n",
    "from core.agent_ray_pd import AgentCollection\n",
    "from utils.utils import *\n",
    "import numpy as np\n",
    "import ray\n",
    "import envs\n",
    "from trpo import trpo\n",
    "from student import Student\n",
    "from teacher import Teacher\n",
    "import os\n",
    "import pickle\n",
    "device = torch.device('cuda' if torch.cuda.is_available() else 'cpu')\n",
    "print(\"device: \",device)"
   ]
  },
  {
   "cell_type": "markdown",
   "id": "9014864d",
   "metadata": {},
   "source": [
    "### environment setup"
   ]
  },
  {
   "cell_type": "code",
   "execution_count": 2,
   "id": "8f4c6ded",
   "metadata": {},
   "outputs": [
    {
     "name": "stdout",
     "output_type": "stream",
     "text": [
      "device: cuda\n"
     ]
    }
   ],
   "source": [
    "env = gym.make(\"highway-fast-v0\")\n",
    "print(\"device:\", device)\n",
    "def train_env():\n",
    "    env = gym.make('highway-fast-v0')\n",
    "    env.configure({\n",
    "        \"observation\": {\n",
    "            \"type\": \"GrayscaleObservation\",\n",
    "            \"observation_shape\": (128, 64),\n",
    "            \"stack_size\": 4,\n",
    "            \"weights\": [0.2989, 0.5870, 0.1140],  # weights for RGB conversion\n",
    "            \"scaling\": 1.75,\n",
    "        },\n",
    "    })\n",
    "    env.reset()\n",
    "    return env\n",
    "def test_env():\n",
    "    env = train_env()\n",
    "    env.configure({\"policy_frequency\": 15, \"duration\": 20 * 15})\n",
    "    env.reset()\n",
    "    return env\n",
    "\n",
    "num_of_actions=5\n",
    "num_Of_vehicles_Under_vision = 5\n",
    "vehicle_attr = 4"
   ]
  },
  {
   "cell_type": "markdown",
   "id": "8936f3ca",
   "metadata": {},
   "source": [
    "## teacher training phase"
   ]
  },
  {
   "cell_type": "code",
   "execution_count": 3,
   "id": "56e9dcc6",
   "metadata": {},
   "outputs": [],
   "source": [
    "# model = myLib.DQN_creation(policy='MlpPolicy', env=env, policy_kwargs=dict(net_arch=[256, 256]), learning_rate=5e-4,\n",
    "#                 buffer_size=15000, learning_starts=200, batch_size=128, gamma=0.8, train_freq=1, gradient_steps=1,\n",
    "#                 target_update_interval=50, exploration_fraction=0.7, verbose=1, tensorboard_log=\"highway_dqn/\")\n",
    "# model.learn(int(10e4))\n",
    "fileName = \"model\"\n",
    "# myLib.Save_DQN_model(model,fileName)\n",
    "teacher_model = myLib.Load_DQN_model(fileName=fileName)\n"
   ]
  },
  {
   "cell_type": "markdown",
   "id": "417b9b4b",
   "metadata": {},
   "source": [
    "## student training phase"
   ]
  },
  {
   "cell_type": "code",
   "execution_count": 5,
   "id": "b8e5daf9",
   "metadata": {},
   "outputs": [
    {
     "name": "stderr",
     "output_type": "stream",
     "text": [
      "usage: ipykernel_launcher.py [-h] [--hidden-size HIDDEN_SIZE]\n",
      "                             [--num-layers NUM_LAYERS] [--env-name G]\n",
      "                             [--gamma G] [--tau G] [--seed N] [--load-models]\n",
      "                             [--agent-count N] [--num-teachers N] [--max-kl G]\n",
      "                             [--cg-damping G] [--cg-iter G] [--l2-reg G]\n",
      "                             [--teacher-batch-size N] [--sample-batch-size N]\n",
      "                             [--render] [--log-interval N] [--device DEVICE]\n",
      "                             [--num-workers NUM_WORKERS]\n",
      "                             [--num-teacher-episodes N] [--lr G]\n",
      "                             [--test-interval N] [--student-batch-size N]\n",
      "                             [--sample-interval N] [--testing-batch-size N]\n",
      "                             [--num-student-episodes N]\n",
      "                             [--loss-metric LOSS_METRIC] [--algo ALGO]\n",
      "                             [--storm-interval N] [--init-alpha G]\n",
      "ipykernel_launcher.py: error: unrecognized arguments: -f /home/samadi_a@WMGDS.WMG.WARWICK.AC.UK/.local/share/jupyter/runtime/kernel-3cc54215-9212-4991-bdc1-be6015c0cdf9.json\n"
     ]
    },
    {
     "ename": "SystemExit",
     "evalue": "2",
     "output_type": "error",
     "traceback": [
      "An exception has occurred, use %tb to see the full traceback.\n",
      "\u001b[0;31mSystemExit\u001b[0m\u001b[0;31m:\u001b[0m 2\n"
     ]
    }
   ],
   "source": [
    "\n",
    "import argparse\n",
    "\n",
    "parser = argparse.ArgumentParser(description='Policy distillation')\n",
    "# Network, env, MDP, seed\n",
    "parser.add_argument('--hidden-size', type=int, default=256,\n",
    "                    help='number of hidden units per layer')\n",
    "parser.add_argument('--num-layers', type=int, default=2,\n",
    "                    help='number of hidden layers')\n",
    "parser.add_argument('--env-name', default=\"highway-fast-v0\", metavar='G',\n",
    "                    help='name of the environment to run')\n",
    "parser.add_argument('--gamma', type=float, default=0.995, metavar='G',\n",
    "                    help='discount factor (default: 0.995)')\n",
    "parser.add_argument('--tau', type=float, default=0.97, metavar='G',\n",
    "                    help='gae (default: 0.97)')\n",
    "parser.add_argument('--seed', type=int, default=1, metavar='N',\n",
    "                    help='random seed (default: 1)')\n",
    "parser.add_argument('--load-models', default=True, action='store_true',\n",
    "                    help='load_pretrained_models')\n",
    "\n",
    "# Teacher policy training\n",
    "parser.add_argument('--agent-count', type=int, default=10, metavar='N',\n",
    "                    help='number of agents (default: 100)')\n",
    "parser.add_argument('--num-teachers', type=int, default=1, metavar='N',\n",
    "                    help='number of teacher policies (default: 1)')\n",
    "parser.add_argument('--max-kl', type=float, default=1e-2, metavar='G',\n",
    "                    help='max kl value (default: 1e-2)')\n",
    "parser.add_argument('--cg-damping', type=float, default=1e-2, metavar='G',\n",
    "                    help='damping for conjugate gradient (default: 1e-2)')\n",
    "parser.add_argument('--cg-iter', type=int, default=10, metavar='G',\n",
    "                    help='maximum iteration of conjugate gradient (default: 1e-1)')\n",
    "parser.add_argument('--l2-reg', type=float, default=1e-3, metavar='G',\n",
    "                    help='l2 regularization parameter for critics (default: 1e-3)')\n",
    "parser.add_argument('--teacher-batch-size', type=int, default=1000, metavar='N',\n",
    "                    help='per-iteration batch size for each agent (default: 1000)')\n",
    "parser.add_argument('--sample-batch-size', type=int, default=10000, metavar='N',\n",
    "                    help='expert batch size for each teacher (default: 10000)')\n",
    "parser.add_argument('--render', action='store_true',\n",
    "                    help='render the environment')\n",
    "parser.add_argument('--log-interval', type=int, default=1, metavar='N',\n",
    "                    help='interval between training status logs (default: 10)')\n",
    "parser.add_argument('--device', type=str, default='cpu',\n",
    "                    help='set the device (cpu or cuda)')\n",
    "parser.add_argument('--num-workers', type=int, default=10,\n",
    "                    help='number of workers for parallel computing')\n",
    "parser.add_argument('--num-teacher-episodes', type=int, default=10, metavar='N',\n",
    "                    help='num of teacher training episodes (default: 100)')\n",
    "\n",
    "# Student policy training\n",
    "parser.add_argument('--lr', type=float, default=1e-5, metavar='G',\n",
    "                    help='adam learnig rate (default: 1e-3)')\n",
    "parser.add_argument('--test-interval', type=int, default=10, metavar='N',\n",
    "                    help='interval between training status logs (default: 10)')\n",
    "parser.add_argument('--student-batch-size', type=int, default=1000, metavar='N',\n",
    "                    help='per-iteration batch size for student (default: 1000)')\n",
    "parser.add_argument('--sample-interval', type=int, default=10, metavar='N',\n",
    "                    help='frequency to update expert data (default: 10)')\n",
    "parser.add_argument('--testing-batch-size', type=int, default=10000, metavar='N',\n",
    "                    help='batch size for testing student policy (default: 10000)')\n",
    "parser.add_argument('--num-student-episodes', type=int, default=1000, metavar='N',\n",
    "                    help='num of teacher training episodes (default: 1000)')\n",
    "parser.add_argument('--loss-metric', type=str, default='kl',\n",
    "                    help='metric to build student objective')\n",
    "parser.add_argument('--algo', type=str, default='sgd',\n",
    "                    help='update method')\n",
    "parser.add_argument('--storm-interval', type=int, default=10, metavar='N',\n",
    "                    help='frequency of storm (default: 10)')\n",
    "parser.add_argument('--init-alpha', type=float, default=1.0, metavar='G',\n",
    "                    help='storm init alpha (default: 1.0)')\n",
    "args,unknown = parser.parse_args()\n",
    "\n",
    "\n",
    "\n",
    "\n",
    "policy_distilation.main (args, teacher_model, env)\n"
   ]
  },
  {
   "cell_type": "markdown",
   "id": "31bbf6d9",
   "metadata": {},
   "source": [
    "## potential Counterfactuals"
   ]
  },
  {
   "cell_type": "markdown",
   "id": "8a08df6a",
   "metadata": {},
   "source": [
    "### second environment (lower dimensional input)"
   ]
  },
  {
   "cell_type": "code",
   "execution_count": null,
   "id": "aa5b9562",
   "metadata": {},
   "outputs": [],
   "source": [
    "env = gym.make(\"highway-fast-v0\")\n",
    "config = {\n",
    "    \"observation\": {\n",
    "        \"type\": \"Kinematics\",\n",
    "        \"vehicles_count\": num_Of_vehicles_Under_vision,\n",
    "        \"features\": [\"x\", \"y\", \"vx\", \"vy\"],\n",
    "        \"normalize\": False,\n",
    "        \"absolute\": True,\n",
    "        # \"order\": \"sorted\"\n",
    "    }\n",
    "}\n",
    "env.configure(config)"
   ]
  },
  {
   "cell_type": "code",
   "execution_count": null,
   "id": "1b55ff8a",
   "metadata": {},
   "outputs": [],
   "source": [
    "obs = env.reset()\n",
    "env.render()\n",
    "\n",
    "exp_is_valid = []\n",
    "indx=np.array([1])\n",
    "CFs, desireAction = local_lib.CF_find_2(env=env,student_model=student_model,obs=obs,device=device,indx=indx,\n",
    "                      num_Of_vehicles_Under_vision=num_Of_vehicles_Under_vision,vehicle_attr=vehicle_attr)\n"
   ]
  },
  {
   "cell_type": "markdown",
   "id": "8635718d",
   "metadata": {},
   "source": [
    "## counterfactuals validation"
   ]
  },
  {
   "cell_type": "code",
   "execution_count": null,
   "id": "54050afd",
   "metadata": {},
   "outputs": [],
   "source": [
    "image_env = DummyVecEnv([train_env])\n",
    "video_length = 2 * image_env.envs[0].config[\"duration\"]\n",
    "image_env = VecVideoRecorder(image_env, \"highway_cnn/videos/\",\n",
    "                       record_video_trigger=lambda x: x == 0, video_length=video_length,\n",
    "                       name_prefix=\"dqn-agent\")\n",
    "\n",
    "for i, cf in enumerate(CFs):\n",
    "    obs_image = image_env.reset()\n",
    "    obs_kinematics = myLib.CF2Env3(obs, cf, indx, env)\n",
    "    for index, vehicles in enumerate(image_env.venv.envs[0].env.road.vehicles[0:num_Of_vehicles_Under_vision]):\n",
    "        vehicles.position=cf[index,0:2]\n",
    "        # vehicles.velocity=CF[indices,2:4]\n",
    "#applying the CFs to environments\n",
    "    image_env.venv.envs[0].env.render()\n",
    "    image_env.venv.envs[0].env.render()\n",
    "    image_env.venv.envs[0].env.render()\n",
    "    obs_image=image_env.venv.envs[0].env.observation_type.observe() \n",
    "    ##prepare data\n",
    "    plt.imshow(obs_image[3].T, cmap=plt.get_cmap('gray'))\n",
    "    plt.show()\n",
    "    action,_ = teacher_model.predict(obs_image)\n",
    "    action_prim = student_model(torch.tensor(obs_kinematics.observation_type.observe()\\\n",
    "        .reshape(num_Of_vehicles_Under_vision*vehicle_attr), device=device)).argmax(dim=-1).item()\n",
    "    # if action_prim==action_desire then the exp is valide\n",
    "    if(action == action_prim == desireAction[i]):\n",
    "        exp_is_valid.append(1)\n",
    "    else:\n",
    "        exp_is_valid.append(0)\n",
    "    print(exp_is_valid)"
   ]
  },
  {
   "cell_type": "markdown",
   "id": "1f26faf6",
   "metadata": {},
   "source": [
    "## visulize the finded CFs"
   ]
  },
  {
   "cell_type": "code",
   "execution_count": null,
   "id": "33296a3b",
   "metadata": {},
   "outputs": [],
   "source": []
  }
 ],
 "metadata": {
  "kernelspec": {
   "display_name": "Python 3 (ipykernel)",
   "language": "python",
   "name": "python3"
  },
  "language_info": {
   "codemirror_mode": {
    "name": "ipython",
    "version": 3
   },
   "file_extension": ".py",
   "mimetype": "text/x-python",
   "name": "python",
   "nbconvert_exporter": "python",
   "pygments_lexer": "ipython3",
   "version": "3.8.13"
  },
  "vscode": {
   "interpreter": {
    "hash": "7eb106adc6408488fd6295ab4e37723ae3136ab20f5acd4cd4b85982b146a53f"
   }
  }
 },
 "nbformat": 4,
 "nbformat_minor": 5
}
